{
 "cells": [
  {
   "cell_type": "markdown",
   "metadata": {},
   "source": [
    "# Build a digit classifier"
   ]
  },
  {
   "cell_type": "markdown",
   "metadata": {},
   "source": [
    "This file aims to train a digit classifier with hog feature extractor and linear svm model. MNIST handwritten digit database was chosen since it is publically available and commonly used to evaluate machine learning algorithms. "
   ]
  },
  {
   "cell_type": "code",
   "execution_count": 9,
   "metadata": {
    "collapsed": true
   },
   "outputs": [],
   "source": [
    "#!/usr/bin/env python\n",
    "# train_digits.py\n",
    "\n",
    "import numpy as np\n",
    "from sklearn import datasets\n",
    "from skimage.feature import hog\n",
    "from sklearn.svm import LinearSVC\n",
    "from sklearn.externals import joblib\n",
    "from sklearn.utils import shuffle"
   ]
  },
  {
   "cell_type": "code",
   "execution_count": 5,
   "metadata": {
    "collapsed": true
   },
   "outputs": [],
   "source": [
    "def get_hog(X):\n",
    "    \"\"\"Extract the hog features on entire data set\"\"\"\n",
    "    features = []\n",
    "    for image in X:\n",
    "        ft = hog(image.reshape((28, 28)), orientations=9, pixels_per_cell=(14, 14), cells_per_block=(1, 1),\n",
    "                 visualise=False)\n",
    "        features.append(ft)\n",
    "\n",
    "    return np.array(features)\n"
   ]
  },
  {
   "cell_type": "markdown",
   "metadata": {},
   "source": [
    "Hog(Histogram of Oriented Gradients) was used as a feature discriptor. It was chosen due to the simplicity of use - OpenCV provides a free open source function that can be easily applied. Furthermore, the characters have large amounts of curves and edges with strong contrast which are expected to perform well with this descriptor."
   ]
  },
  {
   "cell_type": "code",
   "execution_count": 8,
   "metadata": {
    "collapsed": false
   },
   "outputs": [
    {
     "name": "stdout",
     "output_type": "stream",
     "text": [
      "training a classifier\n",
      "test score:  0.861\n"
     ]
    }
   ],
   "source": [
    "def main():\n",
    "    \"\"\"Train a handwritten digit database to build a digit classifier\"\"\"\n",
    "    dataset = datasets.fetch_mldata('MNIST Original')\n",
    "    X = dataset.data\n",
    "    y = dataset.target\n",
    "\n",
    "    X, y = shuffle(X, y, random_state=0)\n",
    "    # intensity normalisation\n",
    "    X = X / 255.0 * 2 - 1\n",
    "\n",
    "    # feature extraction\n",
    "    X = get_hog(X)\n",
    "\n",
    "    # split the data set\n",
    "    from sklearn.cross_validation import train_test_split\n",
    "    X_train, X_test, y_train, y_test = train_test_split(X, y,\n",
    "                                                        test_size=0.2,\n",
    "                                                        random_state=42)\n",
    "    print(\"training a classifier\")\n",
    "    classifier = LinearSVC()\n",
    "    classifier.fit(X_train, y_train)\n",
    "    \n",
    "    print \"test score: \", classifier.score(X_test, y_test)\n",
    "\n",
    "    joblib.dump(classifier, \"../classifier/linear_svm_hog.pkl\")\n",
    "\n",
    "if __name__ == '__main__':\n",
    "    main()"
   ]
  },
  {
   "cell_type": "markdown",
   "metadata": {},
   "source": [
    "80% of total dataset is used as training set and the rest of images were utilised to evaluate the final model. In this project, linear svm was selected as it requires less training time and still gives reasonable performance. I used the default parameters for the linear svm model however the performance can be further improved by tuning the parameters using grid search algorithm."
   ]
  }
 ],
 "metadata": {
  "kernelspec": {
   "display_name": "Python [Root]",
   "language": "python",
   "name": "Python [Root]"
  },
  "language_info": {
   "codemirror_mode": {
    "name": "ipython",
    "version": 2
   },
   "file_extension": ".py",
   "mimetype": "text/x-python",
   "name": "python",
   "nbconvert_exporter": "python",
   "pygments_lexer": "ipython2",
   "version": "2.7.12"
  }
 },
 "nbformat": 4,
 "nbformat_minor": 0
}
